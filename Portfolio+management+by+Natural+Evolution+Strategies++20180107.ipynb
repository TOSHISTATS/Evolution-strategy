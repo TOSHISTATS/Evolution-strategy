{
 "cells": [
  {
   "cell_type": "markdown",
   "metadata": {},
   "source": [
    "##  0. Import library"
   ]
  },
  {
   "cell_type": "code",
   "execution_count": 2,
   "metadata": {
    "collapsed": true
   },
   "outputs": [],
   "source": [
    "import time\n",
    "import numpy as np\n",
    "from numpy.random import *\n",
    "np.random.seed(0)"
   ]
  },
  {
   "cell_type": "markdown",
   "metadata": {},
   "source": [
    "## 1. Prepare input data"
   ]
  },
  {
   "cell_type": "code",
   "execution_count": 3,
   "metadata": {},
   "outputs": [
    {
     "data": {
      "text/plain": [
       "array([ 0.29399155,  0.38311672,  0.32289173])"
      ]
     },
     "execution_count": 3,
     "metadata": {},
     "output_type": "execute_result"
    }
   ],
   "source": [
    "npop = 10 # population size\n",
    "sigma = 0.1 # noise standard deviation\n",
    "alpha = 0.001 # learning rate\n",
    "\n",
    "w = np.random.rand(3) # our initial guess is random\n",
    "w = w/sum(w) # notmalization (sum of w =1)\n",
    "w"
   ]
  },
  {
   "cell_type": "code",
   "execution_count": 4,
   "metadata": {
    "collapsed": true
   },
   "outputs": [],
   "source": [
    "cov = np.array([(6,-5,4), (-5,17,-11),(4,-11,24)])  # covariance matrix of the portfolio\n",
    "mu=np.array([8,12,15])                                               #  avarage return of each asset in the portfolio\n",
    "num=len(mu)\n",
    "beta=2"
   ]
  },
  {
   "cell_type": "markdown",
   "metadata": {},
   "source": [
    "## 2. Create the functions"
   ]
  },
  {
   "cell_type": "markdown",
   "metadata": {},
   "source": [
    "### 2.1 The function for evaluate actions"
   ]
  },
  {
   "cell_type": "code",
   "execution_count": 5,
   "metadata": {
    "collapsed": true
   },
   "outputs": [],
   "source": [
    "# The function for evaluate actions\n",
    "def f(w,mu,cov,beta):\n",
    "     preturn=np.dot(mu, w)\n",
    "     pvar=0.5*beta*(np.dot(np.dot(w, cov), w))\n",
    "     reward=preturn-pvar\n",
    "   \n",
    "     return reward"
   ]
  },
  {
   "cell_type": "markdown",
   "metadata": {},
   "source": [
    "### 2.2 Create initial populations and reward matrix"
   ]
  },
  {
   "cell_type": "code",
   "execution_count": 6,
   "metadata": {},
   "outputs": [
    {
     "data": {
      "text/plain": [
       "(array([[-2.2683282 ,  1.33354538, -0.84272405],\n",
       "        [ 1.96992445,  1.26611853, -0.50587654],\n",
       "        [ 2.54520078,  1.08081191,  0.48431215],\n",
       "        [ 0.57914048, -0.18158257,  1.41020463],\n",
       "        [-0.37447169,  0.27519832, -0.96075461],\n",
       "        [ 0.37692697,  0.03343893,  0.68056724],\n",
       "        [-1.56349669, -0.56669762, -0.24214951],\n",
       "        [ 1.51439128, -0.3330574 ,  0.04736482],\n",
       "        [ 1.46274045,  1.53502913,  0.56644004],\n",
       "        [ 0.14926509, -1.078278  ,  1.39547227]]),\n",
       " array([ 0.,  0.,  0.,  0.,  0.,  0.,  0.,  0.,  0.,  0.]))"
      ]
     },
     "execution_count": 6,
     "metadata": {},
     "output_type": "execute_result"
    }
   ],
   "source": [
    "# nitial populations and reward matrix\n",
    "N = np.random.randn(npop, 3) # samples from a normal distribution N(0,1)\n",
    "R = np.zeros(npop)\n",
    "N,R"
   ]
  },
  {
   "cell_type": "markdown",
   "metadata": {},
   "source": [
    "### 2.3 Inject noise into parameters"
   ]
  },
  {
   "cell_type": "code",
   "execution_count": 7,
   "metadata": {},
   "outputs": [
    {
     "data": {
      "text/plain": [
       "(array([ 0.06715873,  0.51647126,  0.23861932]),\n",
       " array([ 7.31592217,  0.        ,  0.        ,  0.        ,  0.        ,\n",
       "         0.        ,  0.        ,  0.        ,  0.        ,  0.        ]))"
      ]
     },
     "execution_count": 7,
     "metadata": {},
     "output_type": "execute_result"
    }
   ],
   "source": [
    "w_try = w + sigma*N[0] # jitter w using gaussian of sigma 0.1\n",
    "R[0] = f(w_try,mu,cov,beta) # evaluate the jittered version\n",
    "w_try,R"
   ]
  },
  {
   "cell_type": "markdown",
   "metadata": {},
   "source": [
    "## 3. Train the model"
   ]
  },
  {
   "cell_type": "code",
   "execution_count": 9,
   "metadata": {},
   "outputs": [
    {
     "name": "stdout",
     "output_type": "stream",
     "text": [
      "16.98766 Seconds to predict\n"
     ]
    },
    {
     "data": {
      "text/plain": [
       "(array([ 0.30050823,  0.38890967,  0.3105821 ]),\n",
       " 11.729713408036291,\n",
       " 1.5325708017339077)"
      ]
     },
     "execution_count": 9,
     "metadata": {},
     "output_type": "execute_result"
    }
   ],
   "source": [
    "# Train the model\n",
    "t=time.time()\n",
    "for i in range(100000):\n",
    "\n",
    "  # initialize memory for a population of w's, and their rewards\n",
    "  N = np.random.randn(npop, 3) # samples from a normal distribution N(0,1)\n",
    "  R = np.zeros(npop)\n",
    "  for j in range(npop):\n",
    "    w_try = w + sigma*N[j] # inject noise using gaussian of sigma 0.1\n",
    "    R[j] = f(w_try,mu,cov,beta) # evaluate the function after injecting noise to parameters\n",
    "\n",
    "  # standardize the rewards to have a gaussian distribution\n",
    "  A = (R - np.mean(R)) / np.std(R)\n",
    "  # perform the parameter update. \n",
    "  w = w + alpha/(npop*sigma) * np.dot(N.T, A)\n",
    "  w = w/sum(w)\n",
    "    \n",
    "t2 = time.time()\n",
    "print(round(t2-t, 5), 'Seconds to predict')\n",
    "    \n",
    "\n",
    "Return=np.dot(w, mu)                                    # caluculate avarage return of the portfolio\n",
    "Risk=np.sqrt(np.dot(np.dot(w, cov), w))    # caluculate standard deviation of the portfolio\n",
    "    \n",
    "w,Return,Risk       \n",
    "     \n"
   ]
  },
  {
   "cell_type": "markdown",
   "metadata": {},
   "source": [
    "Original : 0.239, 0.433, 0.326, 12.02, 1.604"
   ]
  },
  {
   "cell_type": "markdown",
   "metadata": {},
   "source": [
    "### This code is solely for educational purpose. The code cannot be used for investments in practive. TOSHI STATS SDN. BHD. and I do not accept any responsibility or liability for loss or damage occasioned to any person or property through using materials, instructions, methods, algorithm or ideas contained herein, or acting or refraining from acting as a result of such use. TOSHI STATS SDN. BHD. and I expressly disclaim all implied warranties, including merchantability or fitness for any particular purpose. There will be no duty on TOSHI STATS SDN. BHD. and me to correct any errors or defects in the codes and the software.                    \n"
   ]
  }
 ],
 "metadata": {
  "kernelspec": {
   "display_name": "Python 3",
   "language": "python",
   "name": "python3"
  },
  "language_info": {
   "codemirror_mode": {
    "name": "ipython",
    "version": 3
   },
   "file_extension": ".py",
   "mimetype": "text/x-python",
   "name": "python",
   "nbconvert_exporter": "python",
   "pygments_lexer": "ipython3",
   "version": "3.6.3"
  }
 },
 "nbformat": 4,
 "nbformat_minor": 2
}
